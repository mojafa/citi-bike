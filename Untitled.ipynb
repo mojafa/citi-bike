{
 "cells": [
  {
   "cell_type": "code",
   "execution_count": 2,
   "id": "f401bce9",
   "metadata": {},
   "outputs": [],
   "source": [
    "import requests\n",
    "from pprint import PrettyPrinter\n",
    "pp = PrettyPrinter()"
   ]
  },
  {
   "cell_type": "code",
   "execution_count": 6,
   "id": "ca1f4347",
   "metadata": {},
   "outputs": [
    {
     "name": "stdout",
     "output_type": "stream",
     "text": [
      "{'Error Message': 'the parameter apikey is invalid or missing. Please claim '\n",
      "                  'your free API key on '\n",
      "                  '(https://www.alphavantage.co/support/#api-key). It should '\n",
      "                  'take less than 20 seconds.'}\n"
     ]
    }
   ],
   "source": [
    "  url = \"https://www.alphavantage.co/query\"\n",
    "\n",
    "  currency = \"XAUUSD,US30\"\n",
    "  api_key = \"MZEBJG8H3L5VEMBY\"\n",
    "  querystring = {\"currency\":currency,\"api_key\":api_key}\n",
    "\n",
    "  response = requests.get(url, params=querystring)\n",
    "\n",
    "  pp.pprint(response.json())"
   ]
  },
  {
   "cell_type": "code",
   "execution_count": 7,
   "id": "fe16c218",
   "metadata": {},
   "outputs": [
    {
     "ename": "KeyError",
     "evalue": "'quotes'",
     "output_type": "error",
     "traceback": [
      "\u001b[0;31m---------------------------------------------------------------------------\u001b[0m",
      "\u001b[0;31mKeyError\u001b[0m                                  Traceback (most recent call last)",
      "\u001b[0;32m/var/folders/kt/s8b94f056s9f7ljl6s_gz7th0000gn/T/ipykernel_51411/1170265039.py\u001b[0m in \u001b[0;36m<module>\u001b[0;34m\u001b[0m\n\u001b[1;32m      1\u001b[0m \u001b[0;32mimport\u001b[0m \u001b[0mpandas\u001b[0m \u001b[0;32mas\u001b[0m \u001b[0mpd\u001b[0m\u001b[0;34m\u001b[0m\u001b[0;34m\u001b[0m\u001b[0m\n\u001b[0;32m----> 2\u001b[0;31m \u001b[0mdf\u001b[0m \u001b[0;34m=\u001b[0m \u001b[0mpd\u001b[0m\u001b[0;34m.\u001b[0m\u001b[0mDataFrame\u001b[0m\u001b[0;34m(\u001b[0m\u001b[0mresponse\u001b[0m\u001b[0;34m.\u001b[0m\u001b[0mjson\u001b[0m\u001b[0;34m(\u001b[0m\u001b[0;34m)\u001b[0m\u001b[0;34m[\u001b[0m\u001b[0;34m\"quotes\"\u001b[0m\u001b[0;34m]\u001b[0m\u001b[0;34m)\u001b[0m\u001b[0;34m\u001b[0m\u001b[0;34m\u001b[0m\u001b[0m\n\u001b[0m\u001b[1;32m      3\u001b[0m \u001b[0mdf\u001b[0m\u001b[0;34m\u001b[0m\u001b[0;34m\u001b[0m\u001b[0m\n",
      "\u001b[0;31mKeyError\u001b[0m: 'quotes'"
     ]
    }
   ],
   "source": [
    "  import pandas as pd\n",
    "  df = pd.DataFrame(response.json()[\"quotes\"])\n",
    "  df"
   ]
  }
 ],
 "metadata": {
  "kernelspec": {
   "display_name": "Python 3 (ipykernel)",
   "language": "python",
   "name": "python3"
  },
  "language_info": {
   "codemirror_mode": {
    "name": "ipython",
    "version": 3
   },
   "file_extension": ".py",
   "mimetype": "text/x-python",
   "name": "python",
   "nbconvert_exporter": "python",
   "pygments_lexer": "ipython3",
   "version": "3.9.13"
  }
 },
 "nbformat": 4,
 "nbformat_minor": 5
}
